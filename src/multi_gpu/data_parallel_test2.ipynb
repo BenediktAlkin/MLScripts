{
 "cells": [
  {
   "cell_type": "code",
   "execution_count": 2,
   "id": "80bfa781",
   "metadata": {},
   "outputs": [],
   "source": [
    "import torch\n",
    "import torch.nn as nn"
   ]
  },
  {
   "cell_type": "code",
   "execution_count": 3,
   "id": "f06e30ef",
   "metadata": {},
   "outputs": [],
   "source": [
    "device = torch.device(\"cuda:6\")"
   ]
  },
  {
   "cell_type": "code",
   "execution_count": 4,
   "id": "0e56bef5",
   "metadata": {},
   "outputs": [
    {
     "name": "stdout",
     "output_type": "stream",
     "text": [
      "tensor([[-0.0571, -0.1370, -0.2169,  ...,  0.5390, -0.1141,  0.3640],\n",
      "        [ 0.5225, -0.8591,  0.5108,  ..., -0.3916,  0.4059, -0.5997],\n",
      "        [ 0.0561, -0.1040,  1.0566,  ...,  0.4401,  0.3889,  0.0049],\n",
      "        ...,\n",
      "        [-0.4902,  0.0272, -0.4503,  ...,  0.3274,  0.8314, -0.8121],\n",
      "        [ 0.7316, -0.3792, -0.3314,  ..., -0.7897,  0.5002, -0.0159],\n",
      "        [ 0.3468, -0.5296, -0.1580,  ..., -1.0617, -0.5325, -1.1135]],\n",
      "       device='cuda:6', grad_fn=<GatherBackward>)\n"
     ]
    }
   ],
   "source": [
    "model = nn.Linear(1024, 1024)\n",
    "model.to(device)\n",
    "model = nn.DataParallel(model, device_ids=[6, 7])\n",
    "print(model(torch.randn(32, 1024).to(device)))"
   ]
  },
  {
   "cell_type": "code",
   "execution_count": 6,
   "id": "976bc24a",
   "metadata": {},
   "outputs": [
    {
     "name": "stdout",
     "output_type": "stream",
     "text": [
      "tensor([[ 0.7342,  0.3100,  0.0883,  ...,  0.5354, -0.8100,  1.1021],\n",
      "        [ 0.0995, -0.4837,  0.6038,  ..., -0.4872,  0.6613,  0.2326],\n",
      "        [-0.2703, -0.4442,  0.5208,  ..., -0.2856, -0.6850,  0.7463],\n",
      "        ...,\n",
      "        [ 0.7307, -0.2227,  0.0291,  ...,  1.0768, -1.3793,  0.7948],\n",
      "        [-0.6843,  0.2646,  0.3406,  ..., -0.2419,  0.7972,  0.8963],\n",
      "        [-0.0560, -0.4701,  0.3845,  ..., -0.3214,  0.0804,  0.2355]],\n",
      "       device='cuda:6', grad_fn=<GatherBackward>)\n"
     ]
    }
   ],
   "source": [
    "model = nn.Linear(1024, 1024)\n",
    "model.to(device)\n",
    "model = nn.DataParallel(model, device_ids=[6, 7])\n",
    "model.to(device)\n",
    "print(model(torch.randn(32, 1024).to(device)))"
   ]
  },
  {
   "cell_type": "code",
   "execution_count": 7,
   "id": "507b1170",
   "metadata": {},
   "outputs": [
    {
     "name": "stdout",
     "output_type": "stream",
     "text": [
      "tensor([[ 0.3558, -0.0799, -0.0221,  ...,  0.1126,  0.2446, -0.6012],\n",
      "        [ 0.1898,  0.7006, -0.0035,  ..., -0.4723,  0.2117, -0.1911],\n",
      "        [-0.7380, -0.3987, -0.5895,  ..., -0.4576,  1.0283,  0.6984],\n",
      "        ...,\n",
      "        [-0.3201,  1.0081, -0.3961,  ..., -1.0716,  1.1298,  1.1777],\n",
      "        [-0.4025, -0.7913,  0.3210,  ..., -1.2385, -0.2605,  0.2319],\n",
      "        [ 0.3796,  0.5041,  0.1212,  ..., -0.6480, -0.5234, -0.4071]],\n",
      "       device='cuda:6', grad_fn=<GatherBackward>)\n"
     ]
    }
   ],
   "source": [
    "model = nn.Linear(1024, 1024)\n",
    "model.to(device)\n",
    "model = nn.DataParallel(model, device_ids=[6, 7])\n",
    "print(model(torch.randn(32, 1024).to(device)))"
   ]
  }
 ],
 "metadata": {
  "kernelspec": {
   "display_name": "Python 3",
   "language": "python",
   "name": "python3"
  },
  "language_info": {
   "codemirror_mode": {
    "name": "ipython",
    "version": 3
   },
   "file_extension": ".py",
   "mimetype": "text/x-python",
   "name": "python",
   "nbconvert_exporter": "python",
   "pygments_lexer": "ipython3",
   "version": "3.9.7"
  }
 },
 "nbformat": 4,
 "nbformat_minor": 5
}
