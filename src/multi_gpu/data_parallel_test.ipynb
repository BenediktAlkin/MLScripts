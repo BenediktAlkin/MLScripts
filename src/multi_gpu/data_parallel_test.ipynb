{
 "cells": [
  {
   "cell_type": "code",
   "execution_count": 1,
   "id": "da7a08f5",
   "metadata": {},
   "outputs": [
    {
     "name": "stderr",
     "output_type": "stream",
     "text": [
      "/system/apps/userenv/alkin/default/lib/python3.9/site-packages/tqdm/auto.py:22: TqdmWarning: IProgress not found. Please update jupyter and ipywidgets. See https://ipywidgets.readthedocs.io/en/stable/user_install.html\n",
      "  from .autonotebook import tqdm as notebook_tqdm\n"
     ]
    }
   ],
   "source": [
    "import torch\n",
    "import torch.nn as nn\n",
    "loss_fn = torch.nn.MSELoss(reduction=\"none\")"
   ]
  },
  {
   "cell_type": "code",
   "execution_count": 2,
   "id": "223dbd26",
   "metadata": {},
   "outputs": [],
   "source": [
    "class SingleInputSingleOutputModel(nn.Module):\n",
    "    def __init__(self):\n",
    "        super().__init__()\n",
    "        self.layer1 = nn.Linear(1024, 512)\n",
    "    \n",
    "    def forward(self, x, random_arg=123):\n",
    "        print(f\"x_shape={x.shape} random_arg={random_arg}\")\n",
    "        output = self.layer1(x)\n",
    "        loss = loss_fn(output, torch.randn_like(output))\n",
    "        return loss.mean(dim=1)"
   ]
  },
  {
   "cell_type": "code",
   "execution_count": 3,
   "id": "761ae032",
   "metadata": {},
   "outputs": [],
   "source": [
    "class SingleInputMultiOutputModel(nn.Module):\n",
    "    def __init__(self):\n",
    "        super().__init__()\n",
    "        self.layer1 = nn.Linear(1024, 512)\n",
    "        self.layer2 = nn.Linear(1024, 256)\n",
    "    \n",
    "    def forward(self, x):\n",
    "        print(f\"x_shape={x.shape}\")\n",
    "        output1 = self.layer1(x)\n",
    "        output2 = self.layer2(x)\n",
    "        loss1 = loss_fn(output1, torch.randn_like(output1))\n",
    "        loss2 = loss_fn(output2, torch.randn_like(output2))\n",
    "        return loss1.mean(dim=1), loss2.mean(dim=1)"
   ]
  },
  {
   "cell_type": "code",
   "execution_count": 4,
   "id": "6dc7422a",
   "metadata": {},
   "outputs": [],
   "source": [
    "class MultiInputMultiOutputModel(nn.Module):\n",
    "    def __init__(self):\n",
    "        super().__init__()\n",
    "        self.layer1 = nn.Linear(1024, 512)\n",
    "        self.layer2 = nn.Linear(1024, 256)\n",
    "    \n",
    "    def forward(self, x1, x2):\n",
    "        print(f\"x1_shape={x1.shape} x2_shape={x2.shape}\")\n",
    "        output1 = self.layer1(x1)\n",
    "        output2 = self.layer2(x2)\n",
    "        loss1 = loss_fn(output1, torch.randn_like(output1))\n",
    "        loss2 = loss_fn(output2, torch.randn_like(output2))\n",
    "        return loss1.mean(dim=1), loss2.mean(dim=1)"
   ]
  },
  {
   "cell_type": "code",
   "execution_count": 11,
   "id": "86ba5e91",
   "metadata": {},
   "outputs": [],
   "source": [
    "def run(device_ids, model_class, inputs=1):\n",
    "    model = model_class()\n",
    "    model = nn.DataParallel(model, device_ids=device_ids)\n",
    "    print(f\"model: {model}\")\n",
    "    \n",
    "    main_device = torch.device(f\"cuda:{device_ids[0]}\")\n",
    "    model.to(main_device)\n",
    "    \n",
    "    output = model(*[torch.randn(32, 1024).to(main_device) for _ in range(inputs)])\n",
    "    if isinstance(output, tuple):\n",
    "        for i, o in enumerate(output):\n",
    "            print(f\"output{i}_shape={o.shape}\")\n",
    "    else:\n",
    "        print(f\"output_shape={output.shape}\")"
   ]
  },
  {
   "cell_type": "code",
   "execution_count": 6,
   "id": "b867b47b",
   "metadata": {},
   "outputs": [],
   "source": [
    "device_ids = [6, 7]"
   ]
  },
  {
   "cell_type": "code",
   "execution_count": 7,
   "id": "6715bc2c",
   "metadata": {},
   "outputs": [
    {
     "name": "stdout",
     "output_type": "stream",
     "text": [
      "model: DataParallel(\n",
      "  (module): SingleInputSingleOutputModel(\n",
      "    (layer1): Linear(in_features=1024, out_features=512, bias=True)\n",
      "  )\n",
      ")\n",
      "x_shape=torch.Size([16, 1024]) random_arg=123\n",
      "x_shape=torch.Size([16, 1024]) random_arg=123\n",
      "output_shape=torch.Size([32])\n"
     ]
    }
   ],
   "source": [
    "run(device_ids, SingleInputSingleOutputModel)"
   ]
  },
  {
   "cell_type": "code",
   "execution_count": 8,
   "id": "a65e40c6",
   "metadata": {},
   "outputs": [
    {
     "name": "stdout",
     "output_type": "stream",
     "text": [
      "model: DataParallel(\n",
      "  (module): SingleInputMultiOutputModel(\n",
      "    (layer1): Linear(in_features=1024, out_features=512, bias=True)\n",
      "    (layer2): Linear(in_features=1024, out_features=256, bias=True)\n",
      "  )\n",
      ")\n",
      "x_shape=torch.Size([16, 1024])\n",
      "x_shape=torch.Size([16, 1024])\n",
      "output0_shape=torch.Size([32])\n",
      "output1_shape=torch.Size([32])\n"
     ]
    }
   ],
   "source": [
    "run(device_ids, SingleInputMultiOutputModel)"
   ]
  },
  {
   "cell_type": "code",
   "execution_count": 12,
   "id": "938529a7",
   "metadata": {},
   "outputs": [
    {
     "name": "stdout",
     "output_type": "stream",
     "text": [
      "model: DataParallel(\n",
      "  (module): MultiInputMultiOutputModel(\n",
      "    (layer1): Linear(in_features=1024, out_features=512, bias=True)\n",
      "    (layer2): Linear(in_features=1024, out_features=256, bias=True)\n",
      "  )\n",
      ")\n",
      "x1_shape=torch.Size([16, 1024]) x2_shape=torch.Size([16, 1024])\n",
      "x1_shape=torch.Size([16, 1024]) x2_shape=torch.Size([16, 1024])\n",
      "output0_shape=torch.Size([32])\n",
      "output1_shape=torch.Size([32])\n"
     ]
    }
   ],
   "source": [
    "run(device_ids, MultiInputMultiOutputModel, inputs=2)"
   ]
  }
 ],
 "metadata": {
  "kernelspec": {
   "display_name": "Python 3",
   "language": "python",
   "name": "python3"
  },
  "language_info": {
   "codemirror_mode": {
    "name": "ipython",
    "version": 3
   },
   "file_extension": ".py",
   "mimetype": "text/x-python",
   "name": "python",
   "nbconvert_exporter": "python",
   "pygments_lexer": "ipython3",
   "version": "3.9.7"
  }
 },
 "nbformat": 4,
 "nbformat_minor": 5
}
